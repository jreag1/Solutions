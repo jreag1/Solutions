{
 "cells": [
  {
   "cell_type": "code",
   "execution_count": 75,
   "metadata": {},
   "outputs": [],
   "source": [
    "import matplotlib.image as mpimg\n",
    "import matplotlib.pyplot as plt\n",
    "import numpy as np\n",
    "import tensorflow as tf\n",
    "from tensorflow.examples.tutorials.mnist import input_data"
   ]
  },
  {
   "cell_type": "markdown",
   "metadata": {},
   "source": [
    "In this notebook, we will use TensorFlow to build a model which can classify images of hand-drawn numbers (from 0 to 9). In particular, we will create a standard neural network with dropout and ultilizing mini-batches. \n",
    "\n",
    "We will train/test using the MNIST dataset. I assume basic familiarity with MNIST and also with commonly-used deep learning terminology."
   ]
  },
  {
   "cell_type": "markdown",
   "metadata": {},
   "source": [
    "# The Model + Optimization"
   ]
  },
  {
   "cell_type": "markdown",
   "metadata": {},
   "source": [
    "We begin by loading in the dataset. "
   ]
  },
  {
   "cell_type": "code",
   "execution_count": 76,
   "metadata": {},
   "outputs": [
    {
     "name": "stdout",
     "output_type": "stream",
     "text": [
      "Extracting data/train-images-idx3-ubyte.gz\n",
      "Extracting data/train-labels-idx1-ubyte.gz\n",
      "Extracting data/t10k-images-idx3-ubyte.gz\n",
      "Extracting data/t10k-labels-idx1-ubyte.gz\n"
     ]
    }
   ],
   "source": [
    "MNIST = input_data.read_data_sets('data/', one_hot=True)"
   ]
  },
  {
   "cell_type": "markdown",
   "metadata": {},
   "source": [
    "Now, let's decide the topology of our network using a list called 'layer_dims'. This list will contain the number of neurons in each layer. We will work with layer_dims when creating our model, so I believe that defining it early is useful for learning purposes.\n",
    "\n",
    "We will have 28x28 input features, 500 neurons in the first layer, 250 in the second, 125 in the third, and we have 10 output classes. "
   ]
  },
  {
   "cell_type": "code",
   "execution_count": 77,
   "metadata": {},
   "outputs": [],
   "source": [
    "layer_dims = [784, 500, 250, 125, 10]"
   ]
  },
  {
   "cell_type": "markdown",
   "metadata": {},
   "source": [
    "Next, let's create our placeholders, which will be filled with values once we run our tensorflow session. "
   ]
  },
  {
   "cell_type": "code",
   "execution_count": 78,
   "metadata": {},
   "outputs": [],
   "source": [
    "x = tf.placeholder('float', [None, layer_dims[0]]) #input\n",
    "y = tf.placeholder('float', [None, layer_dims[-1]]) #output\n",
    "probability = tf.placeholder('float') #dropout probability of keeping"
   ]
  },
  {
   "cell_type": "markdown",
   "metadata": {},
   "source": [
    "We need a function 'initialize()' to initialize the weights and biases given our network topology. "
   ]
  },
  {
   "cell_type": "code",
   "execution_count": 79,
   "metadata": {},
   "outputs": [],
   "source": [
    "def initialize(layer_dims):\n",
    "    \n",
    "    parameters = {}\n",
    "    \n",
    "    for l in range(1, len(layer_dims)):\n",
    "        parameters['W' + str(l)] = tf.Variable(tf.random_normal([layer_dims[l-1], layer_dims[l]], stddev = 0.1))\n",
    "        parameters['b' + str(l)] = tf.Variable(tf.random_normal([layer_dims[l]]))\n",
    "        \n",
    "    return parameters"
   ]
  },
  {
   "cell_type": "markdown",
   "metadata": {},
   "source": [
    "We also need a function 'forward()' to complete the forward propagation."
   ]
  },
  {
   "cell_type": "code",
   "execution_count": 80,
   "metadata": {},
   "outputs": [],
   "source": [
    "def forward(x, parameters, probability, layer_dims):\n",
    "\n",
    "    layers = {}\n",
    "    \n",
    "    for l in range(1, len(layer_dims) - 1):\n",
    "        x = tf.nn.relu(tf.add(tf.matmul(x, parameters['W' + str(l)]), parameters['b' + str(l)]))\n",
    "        layers['layer' + str(l)] = x\n",
    "        \n",
    "    x = tf.nn.relu(tf.add(tf.matmul(layers['layer' + str(len(layer_dims) - 3)], parameters['W' + str(len(layer_dims) - 2)]),\\\n",
    "        parameters['b' + str(len(layer_dims) - 2)]))\n",
    "    layers['layer' + str(len(layer_dims) - 2)] = tf.nn.dropout(x, probability) \n",
    "    \n",
    "    return (tf.matmul(layers['layer' + str(len(layer_dims) - 2)], parameters['W' + str(len(layer_dims) - 1)])\\\n",
    "            + parameters['b' + str(len(layer_dims) - 1)])"
   ]
  },
  {
   "cell_type": "markdown",
   "metadata": {},
   "source": [
    "Now, let's prepare to optimize the model."
   ]
  },
  {
   "cell_type": "code",
   "execution_count": 87,
   "metadata": {},
   "outputs": [],
   "source": [
    "parameters = initialize(layer_dims)\n",
    "predictions = forward(x, parameters, probability, layer_dims)\n",
    "cost = tf.reduce_mean(tf.nn.softmax_cross_entropy_with_logits(logits = predictions, labels = y)) \n",
    "opt = tf.train.AdamOptimizer(learning_rate = 0.001).minimize(cost) \n",
    "result = tf.equal(tf.argmax(predictions, 1), tf.argmax(y, 1))    \n",
    "accuracy = tf.reduce_mean(tf.cast(result, \"float\"))"
   ]
  },
  {
   "cell_type": "markdown",
   "metadata": {},
   "source": [
    "Finally, we optimize using mini-batches of 100 and 15 epochs."
   ]
  },
  {
   "cell_type": "code",
   "execution_count": 82,
   "metadata": {},
   "outputs": [
    {
     "name": "stdout",
     "output_type": "stream",
     "text": [
      "epoch number: 1\n",
      "cost: 0.2843735211850567\n",
      "training accuracy: 0.96\n",
      "testing accuracy: 0.9548\n",
      "epoch number: 2\n",
      "cost: 0.09861007609997283\n",
      "training accuracy: 0.98\n",
      "testing accuracy: 0.9678\n",
      "epoch number: 3\n",
      "cost: 0.060979520800438794\n",
      "training accuracy: 0.98\n",
      "testing accuracy: 0.9702\n",
      "epoch number: 4\n",
      "cost: 0.041437779547731306\n",
      "training accuracy: 0.99\n",
      "testing accuracy: 0.9726\n",
      "epoch number: 5\n",
      "cost: 0.029306886420288884\n",
      "training accuracy: 0.98\n",
      "testing accuracy: 0.9752\n",
      "epoch number: 6\n",
      "cost: 0.021961649753449653\n",
      "training accuracy: 1.0\n",
      "testing accuracy: 0.9781\n",
      "epoch number: 7\n",
      "cost: 0.0164081841009796\n",
      "training accuracy: 1.0\n",
      "testing accuracy: 0.9801\n",
      "epoch number: 8\n",
      "cost: 0.011004307649246502\n",
      "training accuracy: 1.0\n",
      "testing accuracy: 0.9807\n",
      "epoch number: 9\n",
      "cost: 0.010923360799682666\n",
      "training accuracy: 1.0\n",
      "testing accuracy: 0.9786\n",
      "epoch number: 10\n",
      "cost: 0.00970885508689786\n",
      "training accuracy: 1.0\n",
      "testing accuracy: 0.9805\n",
      "epoch number: 11\n",
      "cost: 0.00692673334892871\n",
      "training accuracy: 1.0\n",
      "testing accuracy: 0.9814\n",
      "epoch number: 12\n",
      "cost: 0.005901485458872974\n",
      "training accuracy: 1.0\n",
      "testing accuracy: 0.9796\n",
      "epoch number: 13\n",
      "cost: 0.005588487494844065\n",
      "training accuracy: 1.0\n",
      "testing accuracy: 0.9779\n",
      "epoch number: 14\n",
      "cost: 0.004955107396032293\n",
      "training accuracy: 1.0\n",
      "testing accuracy: 0.9797\n",
      "epoch number: 15\n",
      "cost: 0.0039061336538113458\n",
      "training accuracy: 1.0\n",
      "testing accuracy: 0.9796\n"
     ]
    }
   ],
   "source": [
    "start = tf.initialize_all_variables()\n",
    "sess = tf.Session()\n",
    "sess.run(start)\n",
    "\n",
    "for epoch in range(15):\n",
    "    \n",
    "    batches = int(MNIST.train.num_examples/100)\n",
    "    average = 0.0\n",
    "    \n",
    "    for i in range(batches):\n",
    "        x_, y_ = MNIST.train.next_batch(100)\n",
    "        sess.run(opt, feed_dict = {x: x_, y: y_, probability: 0.5})\n",
    "        average = average + sess.run(cost, feed_dict = {x: x_, y: y_, probability: 1.0})\n",
    "        \n",
    "    average = average/batches\n",
    "\n",
    "    print('epoch number: ' + str(epoch + 1))\n",
    "    print('cost: ' + str(average))\n",
    "    train_accuracy = sess.run(accuracy, feed_dict = {x: x_, y: y_, probability: 1.0})\n",
    "    print('training accuracy: ' + str(train_accuracy))\n",
    "    test_accuracy = sess.run(accuracy, feed_dict = {x: MNIST.test.images, y: MNIST.test.labels, probability: 1.0})\n",
    "    print('testing accuracy: ' + str(test_accuracy))"
   ]
  },
  {
   "cell_type": "markdown",
   "metadata": {},
   "source": [
    "The model is 97.96% accurate for the training set, which is decent for a standard (e.g. non-convolutional) neural network. "
   ]
  },
  {
   "cell_type": "markdown",
   "metadata": {},
   "source": [
    "# Predicting a Single Image"
   ]
  },
  {
   "cell_type": "markdown",
   "metadata": {},
   "source": [
    "Now that we have an optimized model, let's test it on a custom image. I've drawn a \"3\" and saved it as a jpeg titled '0test3.jpg'. Note that this image follows the same format of the MNIST dataset (28x28, greyscale, white text on a black background). Also note that the image must be normalized and reshaped before we predict. "
   ]
  },
  {
   "cell_type": "code",
   "execution_count": 83,
   "metadata": {},
   "outputs": [
    {
     "data": {
      "image/png": "[encoded data removed]",
      "text/plain": [
       "<Figure size 432x288 with 1 Axes>"
      ]
     },
     "metadata": {},
     "output_type": "display_data"
    }
   ],
   "source": [
    "img = mpimg.imread('0test3.jpg')\n",
    "plt.imshow(img, cmap = 'gray')\n",
    "img = img/255 #normalization\n",
    "img = np.reshape(img, (1, 784))"
   ]
  },
  {
   "cell_type": "markdown",
   "metadata": {},
   "source": [
    "We feed the model the image, softmax the output, and then take the argmax to get a final prediction."
   ]
  },
  {
   "cell_type": "code",
   "execution_count": 84,
   "metadata": {},
   "outputs": [
    {
     "name": "stdout",
     "output_type": "stream",
     "text": [
      "[3]\n"
     ]
    }
   ],
   "source": [
    "img_predict = sess.run(predictions, feed_dict = {x: img, probability: 1})\n",
    "img_predict = tf.nn.softmax(img_predict, axis = -1)\n",
    "arg_max = tf.argmax(input=img_predict, axis=1)\n",
    "print(sess.run(arg_max))"
   ]
  },
  {
   "cell_type": "markdown",
   "metadata": {},
   "source": [
    "The model predicted a '3', which is correct.\n",
    "\n",
    "As a quick aside, let's see what happens when the input image doesn't follow the format of the MNIST dataset. In particular, what happens if we predict the same image but with inverted colors, so that the text is black and the background is white?"
   ]
  },
  {
   "cell_type": "code",
   "execution_count": 85,
   "metadata": {},
   "outputs": [
    {
     "data": {
      "image/png": "[encoded data removed]",
      "text/plain": [
       "<Figure size 432x288 with 1 Axes>"
      ]
     },
     "metadata": {},
     "output_type": "display_data"
    }
   ],
   "source": [
    "img2 = mpimg.imread('0test2.jpg')\n",
    "plt.imshow(img2, cmap = 'gray')\n",
    "img2 = img2/255\n",
    "img2 = np.reshape(img2, (1, 784))"
   ]
  },
  {
   "cell_type": "code",
   "execution_count": 86,
   "metadata": {},
   "outputs": [
    {
     "name": "stdout",
     "output_type": "stream",
     "text": [
      "[0]\n"
     ]
    }
   ],
   "source": [
    "img_predict2 = sess.run(predictions, feed_dict = {x: img2, probability: 1})\n",
    "img_predict2 = tf.nn.softmax(img_predict2, axis = -1)\n",
    "arg_max = tf.argmax(input=img_predict2, axis=1)\n",
    "print(sess.run(arg_max))"
   ]
  },
  {
   "cell_type": "markdown",
   "metadata": {},
   "source": [
    "We see that the model incorrectly predicted '0' for the inverted image. \n",
    "\n",
    "If we want correct predictions for images which consist of black text on a white background, we must train the model with images following this format. One simple way to do this would be to invert every image in the MNIST dataset (keeping the corresponding labels the same) and then retrain the model. This would be an example of data augmentation. "
   ]
  }
 ],
 "metadata": {
  "kernelspec": {
   "display_name": "Python 3",
   "language": "python",
   "name": "python3"
  },
  "language_info": {
   "codemirror_mode": {
    "name": "ipython",
    "version": 3
   },
   "file_extension": ".py",
   "mimetype": "text/x-python",
   "name": "python",
   "nbconvert_exporter": "python",
   "pygments_lexer": "ipython3",
   "version": "3.6.5"
  }
 },
 "nbformat": 4,
 "nbformat_minor": 2
}
